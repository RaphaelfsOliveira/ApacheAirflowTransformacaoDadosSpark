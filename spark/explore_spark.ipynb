{
 "cells": [
  {
   "cell_type": "code",
   "execution_count": 233,
   "metadata": {},
   "outputs": [],
   "source": [
    "from pyspark.sql import SparkSession\n",
    "from pyspark.sql import functions as f"
   ]
  },
  {
   "cell_type": "code",
   "execution_count": 234,
   "metadata": {},
   "outputs": [
    {
     "name": "stdout",
     "output_type": "stream",
     "text": [
      "23/06/08 11:34:08 WARN SparkSession: Using an existing Spark session; only runtime SQL configurations will take effect.\n"
     ]
    }
   ],
   "source": [
    "\n",
    "spark = SparkSession.builder.appName(\"twitter_transform\")\\\n",
    "    .master(\"local[*]\")\\\n",
    "    .config(\"spark.driver.host\", \"127.0.0.1\")\\\n",
    "    .getOrCreate()"
   ]
  },
  {
   "cell_type": "code",
   "execution_count": 235,
   "metadata": {},
   "outputs": [
    {
     "ename": "Py4JJavaError",
     "evalue": "An error occurred while calling o1117.load.\n: java.util.ServiceConfigurationError: org.apache.spark.sql.sources.DataSourceRegister: Error accessing configuration file\n\tat java.base/java.util.ServiceLoader.fail(ServiceLoader.java:582)\n\tat java.base/java.util.ServiceLoader$LazyClassPathLookupIterator.parse(ServiceLoader.java:1173)\n\tat java.base/java.util.ServiceLoader$LazyClassPathLookupIterator.nextProviderClass(ServiceLoader.java:1206)\n\tat java.base/java.util.ServiceLoader$LazyClassPathLookupIterator.hasNextService(ServiceLoader.java:1221)\n\tat java.base/java.util.ServiceLoader$LazyClassPathLookupIterator.hasNext(ServiceLoader.java:1265)\n\tat java.base/java.util.ServiceLoader$2.hasNext(ServiceLoader.java:1300)\n\tat java.base/java.util.ServiceLoader$3.hasNext(ServiceLoader.java:1385)\n\tat scala.collection.convert.Wrappers$JIteratorWrapper.hasNext(Wrappers.scala:45)\n\tat scala.collection.Iterator.foreach(Iterator.scala:943)\n\tat scala.collection.Iterator.foreach$(Iterator.scala:943)\n\tat scala.collection.AbstractIterator.foreach(Iterator.scala:1431)\n\tat scala.collection.IterableLike.foreach(IterableLike.scala:74)\n\tat scala.collection.IterableLike.foreach$(IterableLike.scala:73)\n\tat scala.collection.AbstractIterable.foreach(Iterable.scala:56)\n\tat scala.collection.TraversableLike.filterImpl(TraversableLike.scala:303)\n\tat scala.collection.TraversableLike.filterImpl$(TraversableLike.scala:297)\n\tat scala.collection.AbstractTraversable.filterImpl(Traversable.scala:108)\n\tat scala.collection.TraversableLike.filter(TraversableLike.scala:395)\n\tat scala.collection.TraversableLike.filter$(TraversableLike.scala:395)\n\tat scala.collection.AbstractTraversable.filter(Traversable.scala:108)\n\tat org.apache.spark.sql.execution.datasources.DataSource$.lookupDataSource(DataSource.scala:657)\n\tat org.apache.spark.sql.execution.datasources.DataSource$.lookupDataSourceV2(DataSource.scala:725)\n\tat org.apache.spark.sql.DataFrameReader.load(DataFrameReader.scala:207)\n\tat org.apache.spark.sql.DataFrameReader.load(DataFrameReader.scala:185)\n\tat jdk.internal.reflect.GeneratedMethodAccessor138.invoke(Unknown Source)\n\tat java.base/jdk.internal.reflect.DelegatingMethodAccessorImpl.invoke(DelegatingMethodAccessorImpl.java:43)\n\tat java.base/java.lang.reflect.Method.invoke(Method.java:566)\n\tat py4j.reflection.MethodInvoker.invoke(MethodInvoker.java:244)\n\tat py4j.reflection.ReflectionEngine.invoke(ReflectionEngine.java:357)\n\tat py4j.Gateway.invoke(Gateway.java:282)\n\tat py4j.commands.AbstractCommand.invokeMethod(AbstractCommand.java:132)\n\tat py4j.commands.CallCommand.execute(CallCommand.java:79)\n\tat py4j.ClientServerConnection.waitForCommands(ClientServerConnection.java:182)\n\tat py4j.ClientServerConnection.run(ClientServerConnection.java:106)\n\tat java.base/java.lang.Thread.run(Thread.java:829)\nCaused by: java.nio.file.NoSuchFileException: /Volumes/KINGSTON/Projects/ApacheAirflowTransformacaoDadosSpark/venv/lib/python3.10/site-packages/pyspark/jars/spark-sql_2.12-3.3.1.jar\n\tat java.base/sun.nio.fs.UnixException.translateToIOException(UnixException.java:92)\n\tat java.base/sun.nio.fs.UnixException.rethrowAsIOException(UnixException.java:111)\n\tat java.base/sun.nio.fs.UnixException.rethrowAsIOException(UnixException.java:116)\n\tat java.base/sun.nio.fs.UnixFileAttributeViews$Basic.readAttributes(UnixFileAttributeViews.java:55)\n\tat java.base/sun.nio.fs.UnixFileSystemProvider.readAttributes(UnixFileSystemProvider.java:149)\n\tat java.base/java.nio.file.Files.readAttributes(Files.java:1764)\n\tat java.base/java.util.zip.ZipFile$Source.get(ZipFile.java:1259)\n\tat java.base/java.util.zip.ZipFile$CleanableResource.<init>(ZipFile.java:831)\n\tat java.base/java.util.zip.ZipFile$CleanableResource$FinalizableResource.<init>(ZipFile.java:857)\n\tat java.base/java.util.zip.ZipFile$CleanableResource.get(ZipFile.java:846)\n\tat java.base/java.util.zip.ZipFile.<init>(ZipFile.java:248)\n\tat java.base/java.util.zip.ZipFile.<init>(ZipFile.java:177)\n\tat java.base/java.util.jar.JarFile.<init>(JarFile.java:350)\n\tat java.base/sun.net.www.protocol.jar.URLJarFile.<init>(URLJarFile.java:103)\n\tat java.base/sun.net.www.protocol.jar.URLJarFile.getJarFile(URLJarFile.java:72)\n\tat java.base/sun.net.www.protocol.jar.JarFileFactory.get(JarFileFactory.java:99)\n\tat java.base/sun.net.www.protocol.jar.JarURLConnection.connect(JarURLConnection.java:125)\n\tat java.base/sun.net.www.protocol.jar.JarURLConnection.getInputStream(JarURLConnection.java:155)\n\tat java.base/java.util.ServiceLoader$LazyClassPathLookupIterator.parse(ServiceLoader.java:1165)\n\t... 33 more\n",
     "output_type": "error",
     "traceback": [
      "\u001b[0;31m---------------------------------------------------------------------------\u001b[0m",
      "\u001b[0;31mPy4JJavaError\u001b[0m                             Traceback (most recent call last)",
      "Cell \u001b[0;32mIn[235], line 2\u001b[0m\n\u001b[1;32m      1\u001b[0m path \u001b[39m=\u001b[39m \u001b[39m\"\u001b[39m\u001b[39m../datalake/twitter_spark\u001b[39m\u001b[39m\"\u001b[39m\n\u001b[0;32m----> 2\u001b[0m df \u001b[39m=\u001b[39m spark\u001b[39m.\u001b[39;49mread\u001b[39m.\u001b[39;49mformat(\u001b[39m\"\u001b[39;49m\u001b[39mjson\u001b[39;49m\u001b[39m\"\u001b[39;49m)\u001b[39m.\u001b[39;49mload(path)\n",
      "File \u001b[0;32m/Volumes/KINGSTON/Projects/ApacheAirflowTransformacaoDadosSpark/venv/lib/python3.10/site-packages/pyspark/sql/readwriter.py:177\u001b[0m, in \u001b[0;36mDataFrameReader.load\u001b[0;34m(self, path, format, schema, **options)\u001b[0m\n\u001b[1;32m    175\u001b[0m \u001b[39mself\u001b[39m\u001b[39m.\u001b[39moptions(\u001b[39m*\u001b[39m\u001b[39m*\u001b[39moptions)\n\u001b[1;32m    176\u001b[0m \u001b[39mif\u001b[39;00m \u001b[39misinstance\u001b[39m(path, \u001b[39mstr\u001b[39m):\n\u001b[0;32m--> 177\u001b[0m     \u001b[39mreturn\u001b[39;00m \u001b[39mself\u001b[39m\u001b[39m.\u001b[39m_df(\u001b[39mself\u001b[39;49m\u001b[39m.\u001b[39;49m_jreader\u001b[39m.\u001b[39;49mload(path))\n\u001b[1;32m    178\u001b[0m \u001b[39melif\u001b[39;00m path \u001b[39mis\u001b[39;00m \u001b[39mnot\u001b[39;00m \u001b[39mNone\u001b[39;00m:\n\u001b[1;32m    179\u001b[0m     \u001b[39mif\u001b[39;00m \u001b[39mtype\u001b[39m(path) \u001b[39m!=\u001b[39m \u001b[39mlist\u001b[39m:\n",
      "File \u001b[0;32m/Volumes/KINGSTON/Projects/ApacheAirflowTransformacaoDadosSpark/venv/lib/python3.10/site-packages/py4j/java_gateway.py:1321\u001b[0m, in \u001b[0;36mJavaMember.__call__\u001b[0;34m(self, *args)\u001b[0m\n\u001b[1;32m   1315\u001b[0m command \u001b[39m=\u001b[39m proto\u001b[39m.\u001b[39mCALL_COMMAND_NAME \u001b[39m+\u001b[39m\\\n\u001b[1;32m   1316\u001b[0m     \u001b[39mself\u001b[39m\u001b[39m.\u001b[39mcommand_header \u001b[39m+\u001b[39m\\\n\u001b[1;32m   1317\u001b[0m     args_command \u001b[39m+\u001b[39m\\\n\u001b[1;32m   1318\u001b[0m     proto\u001b[39m.\u001b[39mEND_COMMAND_PART\n\u001b[1;32m   1320\u001b[0m answer \u001b[39m=\u001b[39m \u001b[39mself\u001b[39m\u001b[39m.\u001b[39mgateway_client\u001b[39m.\u001b[39msend_command(command)\n\u001b[0;32m-> 1321\u001b[0m return_value \u001b[39m=\u001b[39m get_return_value(\n\u001b[1;32m   1322\u001b[0m     answer, \u001b[39mself\u001b[39;49m\u001b[39m.\u001b[39;49mgateway_client, \u001b[39mself\u001b[39;49m\u001b[39m.\u001b[39;49mtarget_id, \u001b[39mself\u001b[39;49m\u001b[39m.\u001b[39;49mname)\n\u001b[1;32m   1324\u001b[0m \u001b[39mfor\u001b[39;00m temp_arg \u001b[39min\u001b[39;00m temp_args:\n\u001b[1;32m   1325\u001b[0m     temp_arg\u001b[39m.\u001b[39m_detach()\n",
      "File \u001b[0;32m/Volumes/KINGSTON/Projects/ApacheAirflowTransformacaoDadosSpark/venv/lib/python3.10/site-packages/pyspark/sql/utils.py:190\u001b[0m, in \u001b[0;36mcapture_sql_exception.<locals>.deco\u001b[0;34m(*a, **kw)\u001b[0m\n\u001b[1;32m    188\u001b[0m \u001b[39mdef\u001b[39;00m \u001b[39mdeco\u001b[39m(\u001b[39m*\u001b[39ma: Any, \u001b[39m*\u001b[39m\u001b[39m*\u001b[39mkw: Any) \u001b[39m-\u001b[39m\u001b[39m>\u001b[39m Any:\n\u001b[1;32m    189\u001b[0m     \u001b[39mtry\u001b[39;00m:\n\u001b[0;32m--> 190\u001b[0m         \u001b[39mreturn\u001b[39;00m f(\u001b[39m*\u001b[39;49ma, \u001b[39m*\u001b[39;49m\u001b[39m*\u001b[39;49mkw)\n\u001b[1;32m    191\u001b[0m     \u001b[39mexcept\u001b[39;00m Py4JJavaError \u001b[39mas\u001b[39;00m e:\n\u001b[1;32m    192\u001b[0m         converted \u001b[39m=\u001b[39m convert_exception(e\u001b[39m.\u001b[39mjava_exception)\n",
      "File \u001b[0;32m/Volumes/KINGSTON/Projects/ApacheAirflowTransformacaoDadosSpark/venv/lib/python3.10/site-packages/py4j/protocol.py:326\u001b[0m, in \u001b[0;36mget_return_value\u001b[0;34m(answer, gateway_client, target_id, name)\u001b[0m\n\u001b[1;32m    324\u001b[0m value \u001b[39m=\u001b[39m OUTPUT_CONVERTER[\u001b[39mtype\u001b[39m](answer[\u001b[39m2\u001b[39m:], gateway_client)\n\u001b[1;32m    325\u001b[0m \u001b[39mif\u001b[39;00m answer[\u001b[39m1\u001b[39m] \u001b[39m==\u001b[39m REFERENCE_TYPE:\n\u001b[0;32m--> 326\u001b[0m     \u001b[39mraise\u001b[39;00m Py4JJavaError(\n\u001b[1;32m    327\u001b[0m         \u001b[39m\"\u001b[39m\u001b[39mAn error occurred while calling \u001b[39m\u001b[39m{0}\u001b[39;00m\u001b[39m{1}\u001b[39;00m\u001b[39m{2}\u001b[39;00m\u001b[39m.\u001b[39m\u001b[39m\\n\u001b[39;00m\u001b[39m\"\u001b[39m\u001b[39m.\u001b[39m\n\u001b[1;32m    328\u001b[0m         \u001b[39mformat\u001b[39m(target_id, \u001b[39m\"\u001b[39m\u001b[39m.\u001b[39m\u001b[39m\"\u001b[39m, name), value)\n\u001b[1;32m    329\u001b[0m \u001b[39melse\u001b[39;00m:\n\u001b[1;32m    330\u001b[0m     \u001b[39mraise\u001b[39;00m Py4JError(\n\u001b[1;32m    331\u001b[0m         \u001b[39m\"\u001b[39m\u001b[39mAn error occurred while calling \u001b[39m\u001b[39m{0}\u001b[39;00m\u001b[39m{1}\u001b[39;00m\u001b[39m{2}\u001b[39;00m\u001b[39m. Trace:\u001b[39m\u001b[39m\\n\u001b[39;00m\u001b[39m{3}\u001b[39;00m\u001b[39m\\n\u001b[39;00m\u001b[39m\"\u001b[39m\u001b[39m.\u001b[39m\n\u001b[1;32m    332\u001b[0m         \u001b[39mformat\u001b[39m(target_id, \u001b[39m\"\u001b[39m\u001b[39m.\u001b[39m\u001b[39m\"\u001b[39m, name, value))\n",
      "\u001b[0;31mPy4JJavaError\u001b[0m: An error occurred while calling o1117.load.\n: java.util.ServiceConfigurationError: org.apache.spark.sql.sources.DataSourceRegister: Error accessing configuration file\n\tat java.base/java.util.ServiceLoader.fail(ServiceLoader.java:582)\n\tat java.base/java.util.ServiceLoader$LazyClassPathLookupIterator.parse(ServiceLoader.java:1173)\n\tat java.base/java.util.ServiceLoader$LazyClassPathLookupIterator.nextProviderClass(ServiceLoader.java:1206)\n\tat java.base/java.util.ServiceLoader$LazyClassPathLookupIterator.hasNextService(ServiceLoader.java:1221)\n\tat java.base/java.util.ServiceLoader$LazyClassPathLookupIterator.hasNext(ServiceLoader.java:1265)\n\tat java.base/java.util.ServiceLoader$2.hasNext(ServiceLoader.java:1300)\n\tat java.base/java.util.ServiceLoader$3.hasNext(ServiceLoader.java:1385)\n\tat scala.collection.convert.Wrappers$JIteratorWrapper.hasNext(Wrappers.scala:45)\n\tat scala.collection.Iterator.foreach(Iterator.scala:943)\n\tat scala.collection.Iterator.foreach$(Iterator.scala:943)\n\tat scala.collection.AbstractIterator.foreach(Iterator.scala:1431)\n\tat scala.collection.IterableLike.foreach(IterableLike.scala:74)\n\tat scala.collection.IterableLike.foreach$(IterableLike.scala:73)\n\tat scala.collection.AbstractIterable.foreach(Iterable.scala:56)\n\tat scala.collection.TraversableLike.filterImpl(TraversableLike.scala:303)\n\tat scala.collection.TraversableLike.filterImpl$(TraversableLike.scala:297)\n\tat scala.collection.AbstractTraversable.filterImpl(Traversable.scala:108)\n\tat scala.collection.TraversableLike.filter(TraversableLike.scala:395)\n\tat scala.collection.TraversableLike.filter$(TraversableLike.scala:395)\n\tat scala.collection.AbstractTraversable.filter(Traversable.scala:108)\n\tat org.apache.spark.sql.execution.datasources.DataSource$.lookupDataSource(DataSource.scala:657)\n\tat org.apache.spark.sql.execution.datasources.DataSource$.lookupDataSourceV2(DataSource.scala:725)\n\tat org.apache.spark.sql.DataFrameReader.load(DataFrameReader.scala:207)\n\tat org.apache.spark.sql.DataFrameReader.load(DataFrameReader.scala:185)\n\tat jdk.internal.reflect.GeneratedMethodAccessor138.invoke(Unknown Source)\n\tat java.base/jdk.internal.reflect.DelegatingMethodAccessorImpl.invoke(DelegatingMethodAccessorImpl.java:43)\n\tat java.base/java.lang.reflect.Method.invoke(Method.java:566)\n\tat py4j.reflection.MethodInvoker.invoke(MethodInvoker.java:244)\n\tat py4j.reflection.ReflectionEngine.invoke(ReflectionEngine.java:357)\n\tat py4j.Gateway.invoke(Gateway.java:282)\n\tat py4j.commands.AbstractCommand.invokeMethod(AbstractCommand.java:132)\n\tat py4j.commands.CallCommand.execute(CallCommand.java:79)\n\tat py4j.ClientServerConnection.waitForCommands(ClientServerConnection.java:182)\n\tat py4j.ClientServerConnection.run(ClientServerConnection.java:106)\n\tat java.base/java.lang.Thread.run(Thread.java:829)\nCaused by: java.nio.file.NoSuchFileException: /Volumes/KINGSTON/Projects/ApacheAirflowTransformacaoDadosSpark/venv/lib/python3.10/site-packages/pyspark/jars/spark-sql_2.12-3.3.1.jar\n\tat java.base/sun.nio.fs.UnixException.translateToIOException(UnixException.java:92)\n\tat java.base/sun.nio.fs.UnixException.rethrowAsIOException(UnixException.java:111)\n\tat java.base/sun.nio.fs.UnixException.rethrowAsIOException(UnixException.java:116)\n\tat java.base/sun.nio.fs.UnixFileAttributeViews$Basic.readAttributes(UnixFileAttributeViews.java:55)\n\tat java.base/sun.nio.fs.UnixFileSystemProvider.readAttributes(UnixFileSystemProvider.java:149)\n\tat java.base/java.nio.file.Files.readAttributes(Files.java:1764)\n\tat java.base/java.util.zip.ZipFile$Source.get(ZipFile.java:1259)\n\tat java.base/java.util.zip.ZipFile$CleanableResource.<init>(ZipFile.java:831)\n\tat java.base/java.util.zip.ZipFile$CleanableResource$FinalizableResource.<init>(ZipFile.java:857)\n\tat java.base/java.util.zip.ZipFile$CleanableResource.get(ZipFile.java:846)\n\tat java.base/java.util.zip.ZipFile.<init>(ZipFile.java:248)\n\tat java.base/java.util.zip.ZipFile.<init>(ZipFile.java:177)\n\tat java.base/java.util.jar.JarFile.<init>(JarFile.java:350)\n\tat java.base/sun.net.www.protocol.jar.URLJarFile.<init>(URLJarFile.java:103)\n\tat java.base/sun.net.www.protocol.jar.URLJarFile.getJarFile(URLJarFile.java:72)\n\tat java.base/sun.net.www.protocol.jar.JarFileFactory.get(JarFileFactory.java:99)\n\tat java.base/sun.net.www.protocol.jar.JarURLConnection.connect(JarURLConnection.java:125)\n\tat java.base/sun.net.www.protocol.jar.JarURLConnection.getInputStream(JarURLConnection.java:155)\n\tat java.base/java.util.ServiceLoader$LazyClassPathLookupIterator.parse(ServiceLoader.java:1165)\n\t... 33 more\n"
     ]
    }
   ],
   "source": [
    "path = \"../datalake/twitter_spark\"\n",
    "df = spark.read.format(\"json\").load(path)"
   ]
  },
  {
   "cell_type": "code",
   "execution_count": null,
   "metadata": {},
   "outputs": [
    {
     "name": "stdout",
     "output_type": "stream",
     "text": [
      "+--------------------+--------------------+--------------------+------------+\n",
      "|                data|            includes|                meta|extract_date|\n",
      "+--------------------+--------------------+--------------------+------------+\n",
      "|[{159663454011354...|{[{2022-11-26T22:...|{1665871041879474...|  2023-06-05|\n",
      "|[{163102162644700...|{[{2023-03-01T20:...|{1665870356694069...|  2023-06-05|\n",
      "|[{328700883, 1665...|{[{2011-07-03T21:...|{1665869734179422...|  2023-06-05|\n",
      "|[{161106447754107...|{[{2023-01-05T18:...|{1665869200181665...|  2023-06-05|\n",
      "|[{165690748272235...|{[{2023-05-12T06:...|{1665868754691997...|  2023-06-05|\n",
      "|[{141839209615164...|{[{2021-07-23T02:...|{1665868073113473...|  2023-06-05|\n",
      "|[{163464544704946...|{[{2023-03-11T20:...|{1665867465568530...|  2023-06-05|\n",
      "|[{268619848, 1665...|{[{2011-03-19T04:...|{1665866682353475...|  2023-06-05|\n",
      "|[{144592995, 1665...|{[{2010-05-16T19:...|{1665866163232833...|  2023-06-05|\n",
      "|[{134397719026262...|{[{2020-12-29T17:...|{1665865269892227...|  2023-06-05|\n",
      "|[{133306882977844...|{[{2020-11-29T15:...|{1664783781083987...|  2023-06-02|\n",
      "|[{133306882977844...|{[{2020-11-29T15:...|{1664782950729240...|  2023-06-02|\n",
      "|[{141837148308944...|{[{2021-07-23T00:...|{1664782073092030...|  2023-06-02|\n",
      "|[{159168112263045...|{[{2022-11-13T06:...|{1664781502368870...|  2023-06-02|\n",
      "|[{153489040360158...|{[{2022-06-09T13:...|{1664780976721915...|  2023-06-02|\n",
      "|[{159165534015564...|{[{2022-11-13T04:...|{1664780630775799...|  2023-06-02|\n",
      "|[{107501165136619...|{[{2018-12-18T12:...|{1664780229775175...|  2023-06-02|\n",
      "|[{150403066910568...|{[{2022-03-16T10:...|{1664779557319188...|  2023-06-02|\n",
      "|[{150403066910568...|{[{2022-03-16T10:...|{1664779465216409...|  2023-06-02|\n",
      "|[{130662690143232...|{[{2020-09-17T16:...|{1664778785776979...|  2023-06-02|\n",
      "+--------------------+--------------------+--------------------+------------+\n",
      "only showing top 20 rows\n",
      "\n"
     ]
    }
   ],
   "source": [
    "df.show()"
   ]
  },
  {
   "cell_type": "code",
   "execution_count": null,
   "metadata": {},
   "outputs": [
    {
     "name": "stdout",
     "output_type": "stream",
     "text": [
      "root\n",
      " |-- data: array (nullable = true)\n",
      " |    |-- element: struct (containsNull = true)\n",
      " |    |    |-- author_id: string (nullable = true)\n",
      " |    |    |-- conversation_id: string (nullable = true)\n",
      " |    |    |-- created_at: string (nullable = true)\n",
      " |    |    |-- edit_history_tweet_ids: array (nullable = true)\n",
      " |    |    |    |-- element: string (containsNull = true)\n",
      " |    |    |-- id: string (nullable = true)\n",
      " |    |    |-- in_reply_to_user_id: string (nullable = true)\n",
      " |    |    |-- lang: string (nullable = true)\n",
      " |    |    |-- public_metrics: struct (nullable = true)\n",
      " |    |    |    |-- bookmark_count: long (nullable = true)\n",
      " |    |    |    |-- impression_count: long (nullable = true)\n",
      " |    |    |    |-- like_count: long (nullable = true)\n",
      " |    |    |    |-- quote_count: long (nullable = true)\n",
      " |    |    |    |-- reply_count: long (nullable = true)\n",
      " |    |    |    |-- retweet_count: long (nullable = true)\n",
      " |    |    |-- text: string (nullable = true)\n",
      " |-- includes: struct (nullable = true)\n",
      " |    |-- users: array (nullable = true)\n",
      " |    |    |-- element: struct (containsNull = true)\n",
      " |    |    |    |-- created_at: string (nullable = true)\n",
      " |    |    |    |-- id: string (nullable = true)\n",
      " |    |    |    |-- name: string (nullable = true)\n",
      " |    |    |    |-- username: string (nullable = true)\n",
      " |-- meta: struct (nullable = true)\n",
      " |    |-- newest_id: string (nullable = true)\n",
      " |    |-- next_token: string (nullable = true)\n",
      " |    |-- oldest_id: string (nullable = true)\n",
      " |    |-- result_count: long (nullable = true)\n",
      " |-- extract_date: date (nullable = true)\n",
      "\n"
     ]
    }
   ],
   "source": [
    "df.printSchema()"
   ]
  },
  {
   "cell_type": "code",
   "execution_count": null,
   "metadata": {},
   "outputs": [
    {
     "name": "stdout",
     "output_type": "stream",
     "text": [
      "root\n",
      " |-- data: struct (nullable = true)\n",
      " |    |-- author_id: string (nullable = true)\n",
      " |    |-- conversation_id: string (nullable = true)\n",
      " |    |-- created_at: string (nullable = true)\n",
      " |    |-- edit_history_tweet_ids: array (nullable = true)\n",
      " |    |    |-- element: string (containsNull = true)\n",
      " |    |-- id: string (nullable = true)\n",
      " |    |-- in_reply_to_user_id: string (nullable = true)\n",
      " |    |-- lang: string (nullable = true)\n",
      " |    |-- public_metrics: struct (nullable = true)\n",
      " |    |    |-- bookmark_count: long (nullable = true)\n",
      " |    |    |-- impression_count: long (nullable = true)\n",
      " |    |    |-- like_count: long (nullable = true)\n",
      " |    |    |-- quote_count: long (nullable = true)\n",
      " |    |    |-- reply_count: long (nullable = true)\n",
      " |    |    |-- retweet_count: long (nullable = true)\n",
      " |    |-- text: string (nullable = true)\n",
      "\n"
     ]
    }
   ],
   "source": [
    "df.select(f.explode(\"data\").alias(\"data\")).printSchema()"
   ]
  },
  {
   "cell_type": "code",
   "execution_count": null,
   "metadata": {},
   "outputs": [
    {
     "name": "stdout",
     "output_type": "stream",
     "text": [
      "+--------------------+\n",
      "|                data|\n",
      "+--------------------+\n",
      "|{1596634540113543...|\n",
      "|{1633823161535049...|\n",
      "|{1596634540113543...|\n",
      "|{1633823161535049...|\n",
      "|{1596634540113543...|\n",
      "|{1664611112883736...|\n",
      "|{1596634540113543...|\n",
      "|{1664611112883736...|\n",
      "|{2556649380, 1665...|\n",
      "|{1656912622166605...|\n",
      "|{1631021626447007...|\n",
      "|{1656912622166605...|\n",
      "|{1631021626447007...|\n",
      "|{1590399234221621...|\n",
      "|{1656910448997044...|\n",
      "|{1664617497839161...|\n",
      "|{1656910448997044...|\n",
      "|{1512501204353433...|\n",
      "|{1605648387462004...|\n",
      "|{1664617497839161...|\n",
      "+--------------------+\n",
      "only showing top 20 rows\n",
      "\n"
     ]
    }
   ],
   "source": [
    "df.select(f.explode(\"data\").alias(\"data\")).show()"
   ]
  },
  {
   "cell_type": "code",
   "execution_count": null,
   "metadata": {},
   "outputs": [
    {
     "name": "stdout",
     "output_type": "stream",
     "text": [
      "root\n",
      " |-- author_id: string (nullable = true)\n",
      " |-- conversation_id: string (nullable = true)\n",
      " |-- created_at: string (nullable = true)\n",
      " |-- edit_history_tweet_ids: array (nullable = true)\n",
      " |    |-- element: string (containsNull = true)\n",
      " |-- id: string (nullable = true)\n",
      " |-- in_reply_to_user_id: string (nullable = true)\n",
      " |-- lang: string (nullable = true)\n",
      " |-- bookmark_count: long (nullable = true)\n",
      " |-- impression_count: long (nullable = true)\n",
      " |-- like_count: long (nullable = true)\n",
      " |-- quote_count: long (nullable = true)\n",
      " |-- reply_count: long (nullable = true)\n",
      " |-- retweet_count: long (nullable = true)\n",
      " |-- text: string (nullable = true)\n",
      "\n"
     ]
    }
   ],
   "source": [
    "df.select(\n",
    "    f.explode(\"data\").alias(\"tweets\")\n",
    ").select(\n",
    "    \"tweets.author_id\", \n",
    "    \"tweets.conversation_id\", \n",
    "    \"tweets.created_at\",\n",
    "    \"tweets.edit_history_tweet_ids\",\n",
    "    \"tweets.id\",\n",
    "    \"tweets.in_reply_to_user_id\",\n",
    "    \"tweets.lang\",\n",
    "    \"tweets.public_metrics.*\",\n",
    "    \"tweets.text\"\n",
    ").printSchema()"
   ]
  },
  {
   "cell_type": "code",
   "execution_count": null,
   "metadata": {},
   "outputs": [],
   "source": [
    "df_tweet = df.select(\n",
    "    f.explode(\"data\").alias(\"tweets\")\n",
    ").select(\n",
    "    \"tweets.author_id\", \n",
    "    \"tweets.conversation_id\", \n",
    "    \"tweets.created_at\",\n",
    "    \"tweets.id\",\n",
    "    \"tweets.in_reply_to_user_id\",\n",
    "    \"tweets.lang\",\n",
    "    \"tweets.public_metrics.*\",\n",
    "    \"tweets.text\"\n",
    ")"
   ]
  },
  {
   "cell_type": "code",
   "execution_count": null,
   "metadata": {},
   "outputs": [
    {
     "name": "stdout",
     "output_type": "stream",
     "text": [
      "+-------------------+-------------------+--------------------+-------------------+-------------------+----+--------------+----------------+----------+-----------+-----------+-------------+--------------------+\n",
      "|          author_id|    conversation_id|          created_at|                 id|in_reply_to_user_id|lang|bookmark_count|impression_count|like_count|quote_count|reply_count|retweet_count|                text|\n",
      "+-------------------+-------------------+--------------------+-------------------+-------------------+----+--------------+----------------+----------+-----------+-----------+-------------+--------------------+\n",
      "|1596634540113543169|1665871041879474176|2023-06-05T23:59:...|1665871041879474176|               null|  en|             0|               1|         0|          0|          0|            0|Contact me now fo...|\n",
      "|1633823161535049729|1665871041216774144|2023-06-05T23:59:...|1665871041216774144|               null|  en|             0|               0|         0|          0|          0|          149|RT @ratingology: ...|\n",
      "|1596634540113543169|1665870956772966401|2023-06-05T23:59:...|1665870956772966401|               null|  en|             0|               1|         0|          0|          0|            0|If you need a hac...|\n",
      "|1633823161535049729|1665870942684282886|2023-06-05T23:59:...|1665870942684282886|               null|  en|             0|               0|         0|          0|          0|          137|RT @ratingology: ...|\n",
      "|1596634540113543169|1665870883204857858|2023-06-05T23:59:...|1665870883204857858|               null|  en|             0|               1|         0|          0|          0|            0|You can hire me t...|\n",
      "|1664611112883736576|1665870813449551872|2023-06-05T23:58:...|1665870813449551872|               null|  en|             0|               0|         0|          0|          0|          137|RT @ratingology: ...|\n",
      "|1596634540113543169|1665870782528905217|2023-06-05T23:58:...|1665870782528905217|               null|  en|             0|               1|         0|          0|          0|            0|If you're having ...|\n",
      "|1664611112883736576|1665870757824724994|2023-06-05T23:58:...|1665870757824724994|               null|  en|             0|               0|         0|          0|          0|          149|RT @ratingology: ...|\n",
      "|         2556649380|1665870514160648195|2023-06-05T23:57:...|1665870514160648195|               null|  en|             0|             715|         0|          0|          1|            2|Day 5 of learning...|\n",
      "|1656912622166605824|1665870434850447361|2023-06-05T23:57:...|1665870434850447361|               null|  en|             0|               0|         0|          0|          0|          149|RT @ratingology: ...|\n",
      "|1631021626447007744|1665870356694069248|2023-06-05T23:56:...|1665870356694069248|               null|  en|             0|               0|         0|          0|          0|          137|RT @ratingology: ...|\n",
      "|1656912622166605824|1665870343268073472|2023-06-05T23:56:...|1665870343268073472|               null|  en|             0|               0|         0|          0|          0|          137|RT @ratingology: ...|\n",
      "|1631021626447007744|1665870305057992704|2023-06-05T23:56:...|1665870305057992704|               null|  en|             0|               0|         0|          0|          0|          149|RT @ratingology: ...|\n",
      "|1590399234221621253|1665870082747121668|2023-06-05T23:55:...|1665870082747121668|               null|  es|             0|              16|         1|          0|          0|            0|Cómo Automatizar ...|\n",
      "|1656910448997044225|1665869917025976321|2023-06-05T23:55:...|1665869917025976321|               null|  en|             0|               0|         0|          0|          0|          149|RT @ratingology: ...|\n",
      "|1664617497839161346|1665869871153020928|2023-06-05T23:55:...|1665869871153020928|               null|  en|             0|               0|         0|          0|          0|          137|RT @ratingology: ...|\n",
      "|1656910448997044225|1665869823614545923|2023-06-05T23:54:...|1665869823614545923|               null|  en|             0|               0|         0|          0|          0|          137|RT @ratingology: ...|\n",
      "|1512501204353433600|1665609620163895301|2023-06-05T23:54:...|1665869819873312769|          198061130| qme|             0|              60|         0|          0|          0|            0|@khalilApriday @S...|\n",
      "|1605648387462004736|1665869807479144449|2023-06-05T23:54:...|1665869807479144449|               null|  en|             0|               0|         0|          0|          0|          104|RT @gp_pulipaka: ...|\n",
      "|1664617497839161346|1665869772993740800|2023-06-05T23:54:...|1665869772993740800|               null|  en|             0|               0|         0|          0|          0|          149|RT @ratingology: ...|\n",
      "+-------------------+-------------------+--------------------+-------------------+-------------------+----+--------------+----------------+----------+-----------+-----------+-------------+--------------------+\n",
      "only showing top 20 rows\n",
      "\n"
     ]
    }
   ],
   "source": [
    "df_tweet.show()"
   ]
  },
  {
   "cell_type": "code",
   "execution_count": null,
   "metadata": {},
   "outputs": [
    {
     "name": "stdout",
     "output_type": "stream",
     "text": [
      "root\n",
      " |-- user: struct (nullable = true)\n",
      " |    |-- created_at: string (nullable = true)\n",
      " |    |-- id: string (nullable = true)\n",
      " |    |-- name: string (nullable = true)\n",
      " |    |-- username: string (nullable = true)\n",
      "\n",
      "+--------------------+-------------------+--------------------+---------------+\n",
      "|          created_at|                 id|                name|       username|\n",
      "+--------------------+-------------------+--------------------+---------------+\n",
      "|2022-11-26T22:38:...|1596634540113543169|Kevin Poulsen Hacker|   Kevinhack_01|\n",
      "|2023-03-09T13:32:...|1633823161535049729|           harsh raj|  harshrajind60|\n",
      "|2023-06-02T12:34:...|1664611112883736576|         Arun sharma| Arunsharma8326|\n",
      "|2014-06-09T11:26:...|         2556649380|   Giles Dickenson-J|    GilesDJones|\n",
      "|2023-05-12T06:42:...|1656912622166605824|      himanshu kumar|himanshkumar601|\n",
      "|2023-03-01T20:01:...|1631021626447007744|               Bunty|amanshuklamyju1|\n",
      "|2023-05-12T06:42:...|1656912622166605824|      himanshu kumar|himanshkumar601|\n",
      "|2022-11-09T17:41:...|1590399234221621253| Productos Digitales|   productos_io|\n",
      "|2023-05-12T06:33:...|1656910448997044225|       santosh kumar|santoshkumar601|\n",
      "|2023-06-02T12:59:...|1664617497839161346|        Advik tiwari|   tiwari_advik|\n",
      "|2022-04-08T18:45:...|1512501204353433600|           Nuginator|      nuginator|\n",
      "|2022-12-21T19:37:...|1605648387462004736|      Muhammad Iqbal|   itsme_iqbal1|\n",
      "|2011-07-03T21:35:...|          328700883|      hack with ford| Foooreversally|\n",
      "|2023-06-03T12:42:...|1664975860984696833|             NEMOLog|      NEMOlogAI|\n",
      "|2023-05-17T15:48:...|1658862071625154560|        Josep Lastra|JosepVasq992807|\n",
      "|2021-04-07T21:40:...|1379911822657081347|            Bashrahm|       bashrahm|\n",
      "|2021-06-11T13:04:...|1403337284125171712|  Assignment writers| writers_papers|\n",
      "|2023-03-02T10:40:...|1631242970019299334|               rishu|       rishu799|\n",
      "|2023-05-12T06:28:...|1656909258640994305|          ansh kumar|anshkumarind613|\n",
      "|2023-01-05T18:18:...|1611064477541072896|TrustedTutors.Ess...|Trustedtutors23|\n",
      "+--------------------+-------------------+--------------------+---------------+\n",
      "only showing top 20 rows\n",
      "\n"
     ]
    }
   ],
   "source": [
    "df.select(f.explode(\"includes.users\").alias(\"user\")).printSchema()\n",
    "\n",
    "df.select(\n",
    "    f.explode(\"includes.users\").alias(\"user\")\n",
    ").select(\n",
    "    \"user.*\",\n",
    ").show()"
   ]
  }
 ],
 "metadata": {
  "kernelspec": {
   "display_name": "venv",
   "language": "python",
   "name": "python3"
  },
  "language_info": {
   "codemirror_mode": {
    "name": "ipython",
    "version": 3
   },
   "file_extension": ".py",
   "mimetype": "text/x-python",
   "name": "python",
   "nbconvert_exporter": "python",
   "pygments_lexer": "ipython3",
   "version": "3.10.5"
  },
  "orig_nbformat": 4
 },
 "nbformat": 4,
 "nbformat_minor": 2
}
