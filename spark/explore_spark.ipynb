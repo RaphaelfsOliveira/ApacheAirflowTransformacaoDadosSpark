{
 "cells": [
  {
   "cell_type": "code",
   "execution_count": 62,
   "metadata": {},
   "outputs": [],
   "source": [
    "from pyspark.sql import SparkSession\n",
    "from pyspark.sql import functions as f"
   ]
  },
  {
   "cell_type": "code",
   "execution_count": 56,
   "metadata": {},
   "outputs": [],
   "source": [
    "\n",
    "spark = SparkSession.builder.appName(\"twitter_transform\")\\\n",
    "    .master(\"local[*]\")\\\n",
    "    .config(\"spark.driver.host\", \"127.0.0.1\")\\\n",
    "    .getOrCreate()"
   ]
  },
  {
   "cell_type": "code",
   "execution_count": 57,
   "metadata": {},
   "outputs": [
    {
     "name": "stderr",
     "output_type": "stream",
     "text": [
      "                                                                                \r"
     ]
    }
   ],
   "source": [
    "path = \"../datalake/twitter_spark\"\n",
    "df = spark.read.format(\"json\").load(path)"
   ]
  },
  {
   "cell_type": "code",
   "execution_count": 60,
   "metadata": {},
   "outputs": [
    {
     "name": "stdout",
     "output_type": "stream",
     "text": [
      "+--------------------+--------------------+--------------------+------------+\n",
      "|                data|            includes|                meta|extract_date|\n",
      "+--------------------+--------------------+--------------------+------------+\n",
      "|[{159663454011354...|{[{2022-11-26T22:...|{1665871041879474...|  2023-06-05|\n",
      "|[{163102162644700...|{[{2023-03-01T20:...|{1665870356694069...|  2023-06-05|\n",
      "|[{328700883, 1665...|{[{2011-07-03T21:...|{1665869734179422...|  2023-06-05|\n",
      "|[{161106447754107...|{[{2023-01-05T18:...|{1665869200181665...|  2023-06-05|\n",
      "|[{165690748272235...|{[{2023-05-12T06:...|{1665868754691997...|  2023-06-05|\n",
      "|[{141839209615164...|{[{2021-07-23T02:...|{1665868073113473...|  2023-06-05|\n",
      "|[{163464544704946...|{[{2023-03-11T20:...|{1665867465568530...|  2023-06-05|\n",
      "|[{268619848, 1665...|{[{2011-03-19T04:...|{1665866682353475...|  2023-06-05|\n",
      "|[{144592995, 1665...|{[{2010-05-16T19:...|{1665866163232833...|  2023-06-05|\n",
      "|[{134397719026262...|{[{2020-12-29T17:...|{1665865269892227...|  2023-06-05|\n",
      "|[{137860136697377...|{[{2021-04-04T06:...|{1664783899807961...|  2023-06-02|\n",
      "|[{133306882977844...|{[{2020-11-29T15:...|{1664782950729240...|  2023-06-02|\n",
      "|[{141837148308944...|{[{2021-07-23T00:...|{1664782073092030...|  2023-06-02|\n",
      "|[{159168112263045...|{[{2022-11-13T06:...|{1664781502368870...|  2023-06-02|\n",
      "|[{153489040360158...|{[{2022-06-09T13:...|{1664780976721915...|  2023-06-02|\n",
      "|[{159165534015564...|{[{2022-11-13T04:...|{1664780630775799...|  2023-06-02|\n",
      "|[{107501165136619...|{[{2018-12-18T12:...|{1664780229775175...|  2023-06-02|\n",
      "|[{150403066910568...|{[{2022-03-16T10:...|{1664779557319188...|  2023-06-02|\n",
      "|[{150403066910568...|{[{2022-03-16T10:...|{1664779465216409...|  2023-06-02|\n",
      "|[{130662690143232...|{[{2020-09-17T16:...|{1664778785776979...|  2023-06-02|\n",
      "+--------------------+--------------------+--------------------+------------+\n",
      "only showing top 20 rows\n",
      "\n"
     ]
    }
   ],
   "source": [
    "df.show()"
   ]
  },
  {
   "cell_type": "code",
   "execution_count": 61,
   "metadata": {},
   "outputs": [
    {
     "name": "stdout",
     "output_type": "stream",
     "text": [
      "root\n",
      " |-- data: array (nullable = true)\n",
      " |    |-- element: struct (containsNull = true)\n",
      " |    |    |-- author_id: string (nullable = true)\n",
      " |    |    |-- conversation_id: string (nullable = true)\n",
      " |    |    |-- created_at: string (nullable = true)\n",
      " |    |    |-- edit_history_tweet_ids: array (nullable = true)\n",
      " |    |    |    |-- element: string (containsNull = true)\n",
      " |    |    |-- id: string (nullable = true)\n",
      " |    |    |-- in_reply_to_user_id: string (nullable = true)\n",
      " |    |    |-- lang: string (nullable = true)\n",
      " |    |    |-- public_metrics: struct (nullable = true)\n",
      " |    |    |    |-- bookmark_count: long (nullable = true)\n",
      " |    |    |    |-- impression_count: long (nullable = true)\n",
      " |    |    |    |-- like_count: long (nullable = true)\n",
      " |    |    |    |-- quote_count: long (nullable = true)\n",
      " |    |    |    |-- reply_count: long (nullable = true)\n",
      " |    |    |    |-- retweet_count: long (nullable = true)\n",
      " |    |    |-- text: string (nullable = true)\n",
      " |-- includes: struct (nullable = true)\n",
      " |    |-- users: array (nullable = true)\n",
      " |    |    |-- element: struct (containsNull = true)\n",
      " |    |    |    |-- created_at: string (nullable = true)\n",
      " |    |    |    |-- id: string (nullable = true)\n",
      " |    |    |    |-- name: string (nullable = true)\n",
      " |    |    |    |-- username: string (nullable = true)\n",
      " |-- meta: struct (nullable = true)\n",
      " |    |-- newest_id: string (nullable = true)\n",
      " |    |-- next_token: string (nullable = true)\n",
      " |    |-- oldest_id: string (nullable = true)\n",
      " |    |-- result_count: long (nullable = true)\n",
      " |-- extract_date: date (nullable = true)\n",
      "\n"
     ]
    }
   ],
   "source": [
    "df.printSchema()"
   ]
  },
  {
   "cell_type": "code",
   "execution_count": 74,
   "metadata": {},
   "outputs": [
    {
     "name": "stdout",
     "output_type": "stream",
     "text": [
      "root\n",
      " |-- data: struct (nullable = true)\n",
      " |    |-- author_id: string (nullable = true)\n",
      " |    |-- conversation_id: string (nullable = true)\n",
      " |    |-- created_at: string (nullable = true)\n",
      " |    |-- edit_history_tweet_ids: array (nullable = true)\n",
      " |    |    |-- element: string (containsNull = true)\n",
      " |    |-- id: string (nullable = true)\n",
      " |    |-- in_reply_to_user_id: string (nullable = true)\n",
      " |    |-- lang: string (nullable = true)\n",
      " |    |-- public_metrics: struct (nullable = true)\n",
      " |    |    |-- bookmark_count: long (nullable = true)\n",
      " |    |    |-- impression_count: long (nullable = true)\n",
      " |    |    |-- like_count: long (nullable = true)\n",
      " |    |    |-- quote_count: long (nullable = true)\n",
      " |    |    |-- reply_count: long (nullable = true)\n",
      " |    |    |-- retweet_count: long (nullable = true)\n",
      " |    |-- text: string (nullable = true)\n",
      "\n"
     ]
    }
   ],
   "source": [
    "df.select(f.explode(\"data\").alias(\"data\")).printSchema()"
   ]
  },
  {
   "cell_type": "code",
   "execution_count": 76,
   "metadata": {},
   "outputs": [
    {
     "name": "stdout",
     "output_type": "stream",
     "text": [
      "+--------------------+\n",
      "|                data|\n",
      "+--------------------+\n",
      "|{1596634540113543...|\n",
      "|{1633823161535049...|\n",
      "|{1596634540113543...|\n",
      "|{1633823161535049...|\n",
      "|{1596634540113543...|\n",
      "|{1664611112883736...|\n",
      "|{1596634540113543...|\n",
      "|{1664611112883736...|\n",
      "|{2556649380, 1665...|\n",
      "|{1656912622166605...|\n",
      "|{1631021626447007...|\n",
      "|{1656912622166605...|\n",
      "|{1631021626447007...|\n",
      "|{1590399234221621...|\n",
      "|{1656910448997044...|\n",
      "|{1664617497839161...|\n",
      "|{1656910448997044...|\n",
      "|{1512501204353433...|\n",
      "|{1605648387462004...|\n",
      "|{1664617497839161...|\n",
      "+--------------------+\n",
      "only showing top 20 rows\n",
      "\n"
     ]
    }
   ],
   "source": [
    "df.select(f.explode(\"data\").alias(\"data\")).show()"
   ]
  },
  {
   "cell_type": "code",
   "execution_count": 85,
   "metadata": {},
   "outputs": [
    {
     "name": "stdout",
     "output_type": "stream",
     "text": [
      "root\n",
      " |-- author_id: string (nullable = true)\n",
      " |-- conversation_id: string (nullable = true)\n",
      " |-- created_at: string (nullable = true)\n",
      " |-- edit_history_tweet_ids: array (nullable = true)\n",
      " |    |-- element: string (containsNull = true)\n",
      " |-- id: string (nullable = true)\n",
      " |-- in_reply_to_user_id: string (nullable = true)\n",
      " |-- lang: string (nullable = true)\n",
      " |-- bookmark_count: long (nullable = true)\n",
      " |-- impression_count: long (nullable = true)\n",
      " |-- like_count: long (nullable = true)\n",
      " |-- quote_count: long (nullable = true)\n",
      " |-- reply_count: long (nullable = true)\n",
      " |-- retweet_count: long (nullable = true)\n",
      " |-- text: string (nullable = true)\n",
      "\n"
     ]
    }
   ],
   "source": [
    "df.select(\n",
    "    f.explode(\"data\").alias(\"tweets\")\n",
    ").select(\n",
    "    \"tweets.author_id\", \n",
    "    \"tweets.conversation_id\", \n",
    "    \"tweets.created_at\",\n",
    "    \"tweets.edit_history_tweet_ids\",\n",
    "    \"tweets.id\",\n",
    "    \"tweets.in_reply_to_user_id\",\n",
    "    \"tweets.lang\",\n",
    "    \"tweets.public_metrics.*\",\n",
    "    \"tweets.text\"\n",
    ").printSchema()"
   ]
  },
  {
   "cell_type": "code",
   "execution_count": 87,
   "metadata": {},
   "outputs": [],
   "source": [
    "df_tweet = df.select(\n",
    "    f.explode(\"data\").alias(\"tweets\")\n",
    ").select(\n",
    "    \"tweets.author_id\", \n",
    "    \"tweets.conversation_id\", \n",
    "    \"tweets.created_at\",\n",
    "    \"tweets.id\",\n",
    "    \"tweets.in_reply_to_user_id\",\n",
    "    \"tweets.lang\",\n",
    "    \"tweets.public_metrics.*\",\n",
    "    \"tweets.text\"\n",
    ")"
   ]
  },
  {
   "cell_type": "code",
   "execution_count": 89,
   "metadata": {},
   "outputs": [
    {
     "name": "stdout",
     "output_type": "stream",
     "text": [
      "+-------------------+-------------------+--------------------+-------------------+-------------------+----+--------------+----------------+----------+-----------+-----------+-------------+--------------------+\n",
      "|          author_id|    conversation_id|          created_at|                 id|in_reply_to_user_id|lang|bookmark_count|impression_count|like_count|quote_count|reply_count|retweet_count|                text|\n",
      "+-------------------+-------------------+--------------------+-------------------+-------------------+----+--------------+----------------+----------+-----------+-----------+-------------+--------------------+\n",
      "|1596634540113543169|1665871041879474176|2023-06-05T23:59:...|1665871041879474176|               null|  en|             0|               1|         0|          0|          0|            0|Contact me now fo...|\n",
      "|1633823161535049729|1665871041216774144|2023-06-05T23:59:...|1665871041216774144|               null|  en|             0|               0|         0|          0|          0|          162|RT @ratingology: ...|\n",
      "|1596634540113543169|1665870956772966401|2023-06-05T23:59:...|1665870956772966401|               null|  en|             0|               1|         0|          0|          0|            0|If you need a hac...|\n",
      "|1633823161535049729|1665870942684282886|2023-06-05T23:59:...|1665870942684282886|               null|  en|             0|               0|         0|          0|          0|          151|RT @ratingology: ...|\n",
      "|1596634540113543169|1665870883204857858|2023-06-05T23:59:...|1665870883204857858|               null|  en|             0|               1|         0|          0|          0|            0|You can hire me t...|\n",
      "|1664611112883736576|1665870813449551872|2023-06-05T23:58:...|1665870813449551872|               null|  en|             0|               0|         0|          0|          0|          151|RT @ratingology: ...|\n",
      "|1596634540113543169|1665870782528905217|2023-06-05T23:58:...|1665870782528905217|               null|  en|             0|               1|         0|          0|          0|            0|If you're having ...|\n",
      "|1664611112883736576|1665870757824724994|2023-06-05T23:58:...|1665870757824724994|               null|  en|             0|               0|         0|          0|          0|          162|RT @ratingology: ...|\n",
      "|         2556649380|1665870514160648195|2023-06-05T23:57:...|1665870514160648195|               null|  en|             0|             691|         0|          0|          1|            2|Day 5 of learning...|\n",
      "|1656912622166605824|1665870434850447361|2023-06-05T23:57:...|1665870434850447361|               null|  en|             0|               0|         0|          0|          0|          162|RT @ratingology: ...|\n",
      "|1631021626447007744|1665870356694069248|2023-06-05T23:56:...|1665870356694069248|               null|  en|             0|               0|         0|          0|          0|          151|RT @ratingology: ...|\n",
      "|1656912622166605824|1665870343268073472|2023-06-05T23:56:...|1665870343268073472|               null|  en|             0|               0|         0|          0|          0|          151|RT @ratingology: ...|\n",
      "|1631021626447007744|1665870305057992704|2023-06-05T23:56:...|1665870305057992704|               null|  en|             0|               0|         0|          0|          0|          162|RT @ratingology: ...|\n",
      "|1590399234221621253|1665870082747121668|2023-06-05T23:55:...|1665870082747121668|               null|  es|             0|              12|         1|          0|          0|            0|Cómo Automatizar ...|\n",
      "|1656910448997044225|1665869917025976321|2023-06-05T23:55:...|1665869917025976321|               null|  en|             0|               0|         0|          0|          0|          162|RT @ratingology: ...|\n",
      "|1664617497839161346|1665869871153020928|2023-06-05T23:55:...|1665869871153020928|               null|  en|             0|               0|         0|          0|          0|          151|RT @ratingology: ...|\n",
      "|1656910448997044225|1665869823614545923|2023-06-05T23:54:...|1665869823614545923|               null|  en|             0|               0|         0|          0|          0|          151|RT @ratingology: ...|\n",
      "|1512501204353433600|1665609620163895301|2023-06-05T23:54:...|1665869819873312769|          198061130| qme|             0|              44|         0|          0|          0|            0|@khalilApriday @S...|\n",
      "|1605648387462004736|1665869807479144449|2023-06-05T23:54:...|1665869807479144449|               null|  en|             0|               0|         0|          0|          0|          100|RT @gp_pulipaka: ...|\n",
      "|1664617497839161346|1665869772993740800|2023-06-05T23:54:...|1665869772993740800|               null|  en|             0|               0|         0|          0|          0|          162|RT @ratingology: ...|\n",
      "+-------------------+-------------------+--------------------+-------------------+-------------------+----+--------------+----------------+----------+-----------+-----------+-------------+--------------------+\n",
      "only showing top 20 rows\n",
      "\n"
     ]
    }
   ],
   "source": [
    "df_tweet.show()"
   ]
  },
  {
   "cell_type": "code",
   "execution_count": 100,
   "metadata": {},
   "outputs": [
    {
     "name": "stdout",
     "output_type": "stream",
     "text": [
      "root\n",
      " |-- user: struct (nullable = true)\n",
      " |    |-- created_at: string (nullable = true)\n",
      " |    |-- id: string (nullable = true)\n",
      " |    |-- name: string (nullable = true)\n",
      " |    |-- username: string (nullable = true)\n",
      "\n",
      "+--------------------+-------------------+--------------------+---------------+\n",
      "|          created_at|                 id|                name|       username|\n",
      "+--------------------+-------------------+--------------------+---------------+\n",
      "|2022-11-26T22:38:...|1596634540113543169|Kevin Poulsen Hacker|    halalking_1|\n",
      "|2023-03-09T13:32:...|1633823161535049729|           harsh raj|  harshrajind60|\n",
      "|2023-06-02T12:34:...|1664611112883736576|         Arun sharma| Arunsharma8326|\n",
      "|2014-06-09T11:26:...|         2556649380|   Giles Dickenson-J|    GilesDJones|\n",
      "|2023-05-12T06:42:...|1656912622166605824|      himanshu kumar|himanshkumar601|\n",
      "|2023-03-01T20:01:...|1631021626447007744|               Bunty|amanshuklamyju1|\n",
      "|2023-05-12T06:42:...|1656912622166605824|      himanshu kumar|himanshkumar601|\n",
      "|2022-11-09T17:41:...|1590399234221621253| Productos Digitales|   productos_io|\n",
      "|2023-05-12T06:33:...|1656910448997044225|       santosh kumar|santoshkumar601|\n",
      "|2023-06-02T12:59:...|1664617497839161346|        Advik tiwari|   tiwari_advik|\n",
      "|2022-04-08T18:45:...|1512501204353433600|           Nuginator|      nuginator|\n",
      "|2022-12-21T19:37:...|1605648387462004736|      Muhammad Iqbal|   itsme_iqbal1|\n",
      "|2011-07-03T21:35:...|          328700883|      hack with ford| Foooreversally|\n",
      "|2023-06-03T12:42:...|1664975860984696833|             NEMOLog|      NEMOlogAI|\n",
      "|2023-05-17T15:48:...|1658862071625154560|        Josep Lastra|JosepVasq992807|\n",
      "|2021-04-07T21:40:...|1379911822657081347|            Bashrahm|       bashrahm|\n",
      "|2021-06-11T13:04:...|1403337284125171712|  Assignment writers| writers_papers|\n",
      "|2023-03-02T10:40:...|1631242970019299334|               rishu|       rishu799|\n",
      "|2023-05-12T06:28:...|1656909258640994305|          ansh kumar|anshkumarind613|\n",
      "|2023-01-05T18:18:...|1611064477541072896|TrustedTutors.Ess...|Trustedtutors23|\n",
      "+--------------------+-------------------+--------------------+---------------+\n",
      "only showing top 20 rows\n",
      "\n"
     ]
    }
   ],
   "source": [
    "df.select(f.explode(\"includes.users\").alias(\"user\")).printSchema()\n",
    "\n",
    "df.select(\n",
    "    f.explode(\"includes.users\").alias(\"user\")\n",
    ").select(\n",
    "    \"user.created_at\",\n",
    "    \"user.id\",\n",
    "    \"user.name\",\n",
    "    \"user.username\",\n",
    ").show()"
   ]
  }
 ],
 "metadata": {
  "kernelspec": {
   "display_name": "venv",
   "language": "python",
   "name": "python3"
  },
  "language_info": {
   "codemirror_mode": {
    "name": "ipython",
    "version": 3
   },
   "file_extension": ".py",
   "mimetype": "text/x-python",
   "name": "python",
   "nbconvert_exporter": "python",
   "pygments_lexer": "ipython3",
   "version": "3.10.5"
  },
  "orig_nbformat": 4
 },
 "nbformat": 4,
 "nbformat_minor": 2
}
